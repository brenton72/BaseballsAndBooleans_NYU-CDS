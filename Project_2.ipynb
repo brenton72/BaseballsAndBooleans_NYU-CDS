{
 "cells": [
  {
   "cell_type": "markdown",
   "metadata": {},
   "source": [
    "- Deletes unnecessary features\n",
    "- Slices 'Unknown' and 'Spring Training' out\n",
    "- Converts 'pitch_types_seq' and 'pitch_seq' to string\n",
    "- Adds columns: \n",
    "    - n-1 pitch_type_seq\n",
    "    - n-2 pitch_type_seq\n",
    "    - n-3 pitch_type_seq\n",
    "    - n-1 pitch_seq\n",
    "    - n-2 pitch_seq\n",
    "    - n-3 pitch_seq\n",
    "- For a given game_id, counts pitches cumulatively"
   ]
  },
  {
   "cell_type": "code",
   "execution_count": 1,
   "metadata": {
    "collapsed": true
   },
   "outputs": [],
   "source": [
    "import pandas as pd\n",
    "import numpy as np"
   ]
  },
  {
   "cell_type": "code",
   "execution_count": 2,
   "metadata": {
    "collapsed": true
   },
   "outputs": [],
   "source": [
    "data=pd.read_csv('/Users/mkulunyar/Dropbox/DataScience_Project/PythonScraper/pitch_table.csv'\n",
    "                 , low_memory=False)"
   ]
  },
  {
   "cell_type": "code",
   "execution_count": 3,
   "metadata": {
    "collapsed": false
   },
   "outputs": [],
   "source": [
    "#Cleaning\n",
    "#Deleting the features \n",
    "data_new=data.drop(['x', 'y', 'pfx_x', 'pfx_z', 'x0', 'y0', 'z0', 'vx0', 'vy0', 'vz0',\n",
    "                  'ax', 'ay', 'az', 'zone', 'break_y', 'break_angle', 'break_length', \n",
    "                  'spin_dir', 'spin_rate'],1)\n",
    "\n",
    "#Deleting 'Unknown' and 'Spring Training'\n",
    "clean_pitch=data_new[(data_new['game_type_des']!='Unknown') & \n",
    "                     (data_new['game_type_des']!='Spring Training')]\n",
    "\n",
    "clean_pitch=clean_pitch.reset_index().drop(['index'],1)\n",
    "clean_pitch['pitch_type_seq']=clean_pitch.pitch_type_seq.astype(str)\n",
    "clean_pitch['pitch_seq']=clean_pitch.pitch_seq.astype(str)"
   ]
  },
  {
   "cell_type": "code",
   "execution_count": 4,
   "metadata": {
    "collapsed": false
   },
   "outputs": [],
   "source": [
    "#Pitch Type Sequence\n",
    "#n-1\n",
    "q=[]\n",
    "for i in range(len(clean_pitch)):\n",
    "    if len(clean_pitch['pitch_type_seq'][i])>2:\n",
    "        q.append(clean_pitch['pitch_type_seq'][i][-5:-3])\n",
    "    else:\n",
    "        q.append('NaN')\n",
    "\n",
    "#n-2\n",
    "w=[]\n",
    "for i in range(len(clean_pitch)):\n",
    "    if len(clean_pitch['pitch_type_seq'][i])>5:\n",
    "        w.append(clean_pitch['pitch_type_seq'][i][-8:-6])\n",
    "    else:\n",
    "        w.append('NaN')\n",
    "\n",
    "\n",
    "#n-3\n",
    "e=[]\n",
    "for i in range(len(clean_pitch)):\n",
    "    if len(clean_pitch['pitch_type_seq'][i])>8:\n",
    "        e.append(clean_pitch['pitch_type_seq'][i][-11:-9])\n",
    "    else:\n",
    "        e.append('NaN')"
   ]
  },
  {
   "cell_type": "code",
   "execution_count": 5,
   "metadata": {
    "collapsed": false
   },
   "outputs": [],
   "source": [
    "#Pitch Sequence\n",
    "#n-1\n",
    "a=[]\n",
    "for i in range(len(clean_pitch)):\n",
    "    if len(clean_pitch['pitch_seq'][i])>1:\n",
    "        a.append(clean_pitch['pitch_seq'][i][-2:-1])\n",
    "    else:\n",
    "        a.append('NaN')\n",
    "\n",
    "#n-2\n",
    "s=[]\n",
    "for i in range(len(clean_pitch)):\n",
    "    if len(clean_pitch['pitch_seq'][i])>2:\n",
    "        s.append(clean_pitch['pitch_seq'][i][-3:-2])\n",
    "    else:\n",
    "        s.append('NaN')\n",
    "\n",
    "\n",
    "#n-3\n",
    "d=[]\n",
    "for i in range(len(clean_pitch)):\n",
    "    if len(clean_pitch['pitch_seq'][i])>3:\n",
    "        d.append(clean_pitch['pitch_seq'][i][-4:-3])\n",
    "    else:\n",
    "        d.append('NaN')"
   ]
  },
  {
   "cell_type": "code",
   "execution_count": 6,
   "metadata": {
    "collapsed": true
   },
   "outputs": [],
   "source": [
    "#Run the following 6 lines for adding columns"
   ]
  },
  {
   "cell_type": "code",
   "execution_count": 7,
   "metadata": {
    "collapsed": false
   },
   "outputs": [],
   "source": [
    "clean_pitch['n-1_pitch_type']=q"
   ]
  },
  {
   "cell_type": "code",
   "execution_count": 8,
   "metadata": {
    "collapsed": false
   },
   "outputs": [],
   "source": [
    "clean_pitch['n-2_pitch_type']=w"
   ]
  },
  {
   "cell_type": "code",
   "execution_count": 9,
   "metadata": {
    "collapsed": true
   },
   "outputs": [],
   "source": [
    "clean_pitch['n-3_pitch_type']=e"
   ]
  },
  {
   "cell_type": "code",
   "execution_count": 10,
   "metadata": {
    "collapsed": false
   },
   "outputs": [],
   "source": [
    "clean_pitch['n-1_pitch']=a"
   ]
  },
  {
   "cell_type": "code",
   "execution_count": 11,
   "metadata": {
    "collapsed": true
   },
   "outputs": [],
   "source": [
    "clean_pitch['n-2_pitch']=s"
   ]
  },
  {
   "cell_type": "code",
   "execution_count": 12,
   "metadata": {
    "collapsed": true
   },
   "outputs": [],
   "source": [
    "clean_pitch['n-3_pitch']=d"
   ]
  },
  {
   "cell_type": "code",
   "execution_count": 13,
   "metadata": {
    "collapsed": false
   },
   "outputs": [],
   "source": [
    "#Pitchers Cumulative Pitches per Game\n",
    "clean_pitch['pit_id']=clean_pitch.pit_id.astype(int)\n",
    "clean_pitch['game_id']=clean_pitch.game_id.astype(int)\n",
    "clean_pitch['cum_pitch_count']=clean_pitch.groupby(['game_id','pit_id']).cumcount()+1"
   ]
  },
  {
   "cell_type": "code",
   "execution_count": null,
   "metadata": {
    "collapsed": false
   },
   "outputs": [],
   "source": [
    "#Brenton's Part"
   ]
  },
  {
   "cell_type": "code",
   "execution_count": 14,
   "metadata": {
    "collapsed": true
   },
   "outputs": [],
   "source": [
    "clean_pitch = clean_pitch.sort_values(by = ['game_id', 'inning'])"
   ]
  },
  {
   "cell_type": "code",
   "execution_count": 15,
   "metadata": {
    "collapsed": false
   },
   "outputs": [
    {
     "name": "stderr",
     "output_type": "stream",
     "text": [
      "/Users/mkulunyar/anaconda/lib/python3.5/site-packages/ipykernel/__main__.py:4: SettingWithCopyWarning: \n",
      "A value is trying to be set on a copy of a slice from a DataFrame\n",
      "\n",
      "See the caveats in the documentation: http://pandas.pydata.org/pandas-docs/stable/indexing.html#indexing-view-versus-copy\n",
      "/Users/mkulunyar/anaconda/lib/python3.5/site-packages/ipykernel/__main__.py:5: SettingWithCopyWarning: \n",
      "A value is trying to be set on a copy of a slice from a DataFrame\n",
      "\n",
      "See the caveats in the documentation: http://pandas.pydata.org/pandas-docs/stable/indexing.html#indexing-view-versus-copy\n",
      "/Users/mkulunyar/anaconda/lib/python3.5/site-packages/ipykernel/__main__.py:6: SettingWithCopyWarning: \n",
      "A value is trying to be set on a copy of a slice from a DataFrame\n",
      "\n",
      "See the caveats in the documentation: http://pandas.pydata.org/pandas-docs/stable/indexing.html#indexing-view-versus-copy\n",
      "/Users/mkulunyar/anaconda/lib/python3.5/site-packages/ipykernel/__main__.py:7: SettingWithCopyWarning: \n",
      "A value is trying to be set on a copy of a slice from a DataFrame\n",
      "\n",
      "See the caveats in the documentation: http://pandas.pydata.org/pandas-docs/stable/indexing.html#indexing-view-versus-copy\n",
      "/Users/mkulunyar/anaconda/lib/python3.5/site-packages/ipykernel/__main__.py:8: SettingWithCopyWarning: \n",
      "A value is trying to be set on a copy of a slice from a DataFrame\n",
      "\n",
      "See the caveats in the documentation: http://pandas.pydata.org/pandas-docs/stable/indexing.html#indexing-view-versus-copy\n"
     ]
    }
   ],
   "source": [
    "fp = clean_pitch['pitch_seq']\n",
    "fp = pd.DataFrame(fp)\n",
    "fp['first_pitch'] = 0\n",
    "fp['first_pitch'][fp['pitch_seq'] == 'S'] = 1\n",
    "fp['first_pitch'][fp['pitch_seq'] == 'C'] = 1\n",
    "fp['first_pitch'][fp['pitch_seq'] == 'X'] = 1\n",
    "fp['first_pitch'][fp['pitch_seq'] == 'B'] = 1\n",
    "fp['first_pitch'][fp['pitch_seq'] == 'F'] = 1"
   ]
  },
  {
   "cell_type": "code",
   "execution_count": 17,
   "metadata": {
    "collapsed": true
   },
   "outputs": [],
   "source": [
    "clean_pitch = pd.merge(clean_pitch, fp, right_index = True, left_index = True)"
   ]
  },
  {
   "cell_type": "code",
   "execution_count": null,
   "metadata": {
    "collapsed": true
   },
   "outputs": [],
   "source": []
  },
  {
   "cell_type": "code",
   "execution_count": 20,
   "metadata": {
    "collapsed": false
   },
   "outputs": [
    {
     "ename": "AttributeError",
     "evalue": "'DataFrameGroupBy' object has no attribute 'first_pitch'",
     "output_type": "error",
     "traceback": [
      "\u001b[0;31m---------------------------------------------------------------------------\u001b[0m",
      "\u001b[0;31mAttributeError\u001b[0m                            Traceback (most recent call last)",
      "\u001b[0;32m<ipython-input-20-588004bfb4a3>\u001b[0m in \u001b[0;36m<module>\u001b[0;34m()\u001b[0m\n\u001b[0;32m----> 1\u001b[0;31m \u001b[0mclean_pitch\u001b[0m\u001b[0;34m[\u001b[0m\u001b[0;34m'cum'\u001b[0m\u001b[0;34m]\u001b[0m \u001b[0;34m=\u001b[0m \u001b[0mclean_pitch\u001b[0m\u001b[0;34m.\u001b[0m\u001b[0mgroupby\u001b[0m\u001b[0;34m(\u001b[0m\u001b[0;34m[\u001b[0m\u001b[0;34m'game_id'\u001b[0m\u001b[0;34m,\u001b[0m \u001b[0;34m'bat_home_id'\u001b[0m\u001b[0;34m]\u001b[0m\u001b[0;34m)\u001b[0m\u001b[0;34m.\u001b[0m\u001b[0mfirst_pitch\u001b[0m\u001b[0;34m.\u001b[0m\u001b[0mcumsum\u001b[0m\u001b[0;34m(\u001b[0m\u001b[0;34m)\u001b[0m\u001b[0;34m\u001b[0m\u001b[0m\n\u001b[0m\u001b[1;32m      2\u001b[0m \u001b[0mclean_pitch\u001b[0m\u001b[0;34m[\u001b[0m\u001b[0;34m'batter_position'\u001b[0m\u001b[0;34m]\u001b[0m \u001b[0;34m=\u001b[0m \u001b[0mclean_pitch\u001b[0m\u001b[0;34m[\u001b[0m\u001b[0;34m'cum'\u001b[0m\u001b[0;34m]\u001b[0m \u001b[0;34m%\u001b[0m \u001b[0;36m9\u001b[0m\u001b[0;34m\u001b[0m\u001b[0m\n",
      "\u001b[0;32m/Users/mkulunyar/anaconda/lib/python3.5/site-packages/pandas/core/groupby.py\u001b[0m in \u001b[0;36m__getattr__\u001b[0;34m(self, attr)\u001b[0m\n\u001b[1;32m    496\u001b[0m \u001b[0;34m\u001b[0m\u001b[0m\n\u001b[1;32m    497\u001b[0m         raise AttributeError(\"%r object has no attribute %r\" %\n\u001b[0;32m--> 498\u001b[0;31m                              (type(self).__name__, attr))\n\u001b[0m\u001b[1;32m    499\u001b[0m \u001b[0;34m\u001b[0m\u001b[0m\n\u001b[1;32m    500\u001b[0m     \u001b[0mplot\u001b[0m \u001b[0;34m=\u001b[0m \u001b[0mproperty\u001b[0m\u001b[0;34m(\u001b[0m\u001b[0mGroupByPlot\u001b[0m\u001b[0;34m)\u001b[0m\u001b[0;34m\u001b[0m\u001b[0m\n",
      "\u001b[0;31mAttributeError\u001b[0m: 'DataFrameGroupBy' object has no attribute 'first_pitch'"
     ]
    }
   ],
   "source": [
    "clean_pitch['cum'] = clean_pitch.groupby(['game_id', 'bat_home_id']).first_pitch.cumsum()\n",
    "clean_pitch['batter_position'] = clean_pitch['cum'] % 9 \n",
    "clean_pitch['batter_position']=clean_pitch.batter_position.astype(str)\n",
    "clean_pitch['pitch_seq'] = clean_pitch['pitch_seq_x']\n",
    "clean_pitch = clean_pitch.drop('pitch_seq_x', 1)\n",
    "clean_pitch = clean_pitch.drop('pitch_seq_y', 1)"
   ]
  },
  {
   "cell_type": "code",
   "execution_count": null,
   "metadata": {
    "collapsed": true
   },
   "outputs": [],
   "source": [
    "clean_pitch['pitch_seq'] = clean_pitch['pitch_seq_x']\n",
    "clean_pitch = clean_pitch.drop('pitch_seq_x', 1)\n",
    "clean_pitch = clean_pitch.drop('pitch_seq_y', 1)"
   ]
  },
  {
   "cell_type": "code",
   "execution_count": null,
   "metadata": {
    "collapsed": false
   },
   "outputs": [],
   "source": [
    "clean_pitch.head()"
   ]
  },
  {
   "cell_type": "code",
   "execution_count": null,
   "metadata": {
    "collapsed": false
   },
   "outputs": [],
   "source": [
    "#Reseting Index\n",
    "clean_pitch.reset_index().head()"
   ]
  },
  {
   "cell_type": "code",
   "execution_count": null,
   "metadata": {
    "collapsed": false
   },
   "outputs": [],
   "source": [
    ".to_csv('a.csv')"
   ]
  },
  {
   "cell_type": "code",
   "execution_count": null,
   "metadata": {
    "collapsed": false
   },
   "outputs": [],
   "source": [
    "clean_pitch.columns"
   ]
  },
  {
   "cell_type": "code",
   "execution_count": null,
   "metadata": {
    "collapsed": false
   },
   "outputs": [],
   "source": [
    "clean_pitch"
   ]
  },
  {
   "cell_type": "code",
   "execution_count": null,
   "metadata": {
    "collapsed": true
   },
   "outputs": [],
   "source": []
  }
 ],
 "metadata": {
  "anaconda-cloud": {},
  "kernelspec": {
   "display_name": "Python [Root]",
   "language": "python",
   "name": "Python [Root]"
  },
  "language_info": {
   "codemirror_mode": {
    "name": "ipython",
    "version": 3
   },
   "file_extension": ".py",
   "mimetype": "text/x-python",
   "name": "python",
   "nbconvert_exporter": "python",
   "pygments_lexer": "ipython3",
   "version": "3.5.2"
  }
 },
 "nbformat": 4,
 "nbformat_minor": 0
}
